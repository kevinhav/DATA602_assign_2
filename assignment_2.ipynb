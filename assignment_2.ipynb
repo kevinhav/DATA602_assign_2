{
 "cells": [
  {
   "cell_type": "markdown",
   "metadata": {},
   "source": [
    "## Q1\n",
    "\n",
    "What will the following code display?\n",
    "\n",
    "```\n",
    "numbers = [1, 2, 3, 4, 5]\n",
    "print(numbers[1:-5])\n",
    "```\n",
    "Can you debug and fix the output? The code should return the entire list"
   ]
  },
  {
   "cell_type": "markdown",
   "metadata": {},
   "source": [
    "**The slice is starting at the 2nd element through the 1st element, which is invalid. Since there are only five elements in the list, it returns an empty list**"
   ]
  },
  {
   "cell_type": "code",
   "execution_count": 1,
   "metadata": {},
   "outputs": [
    {
     "name": "stdout",
     "output_type": "stream",
     "text": [
      "[]\n"
     ]
    }
   ],
   "source": [
    "numbers = [1, 2, 3, 4, 5]\n",
    "print(numbers[1:-5])"
   ]
  },
  {
   "cell_type": "code",
   "execution_count": 2,
   "metadata": {},
   "outputs": [
    {
     "name": "stdout",
     "output_type": "stream",
     "text": [
      "[1, 2, 3, 4, 5]\n"
     ]
    }
   ],
   "source": [
    "# The fix\n",
    "print(numbers[:])"
   ]
  },
  {
   "cell_type": "markdown",
   "metadata": {},
   "source": [
    "\n",
    "## Q2\n",
    "\n",
    "Design a program that asks the user to enter a store’s sales for each day of the\n",
    "week. The amounts should be stored in a list. Use a loop to calculate the total sales for\n",
    "the week and display the result.\n",
    "\n"
   ]
  },
  {
   "cell_type": "code",
   "execution_count": 3,
   "metadata": {},
   "outputs": [
    {
     "name": "stdout",
     "output_type": "stream",
     "text": [
      "Total sales for the week: 500\n"
     ]
    }
   ],
   "source": [
    "def store_sales():\n",
    "\n",
    "    # initiate the list\n",
    "    sales = []\n",
    "    total_sales = 0\n",
    "\n",
    "    # define the days we expect sales for\n",
    "    week_days = ['Monday', 'Tuesday', 'Wednesday', 'Thursday', 'Friday']\n",
    "    \n",
    "    # get sales from user input per day\n",
    "    for day in week_days:\n",
    "        sales.append(int(input(f'Enter the sales for {day}: ')))\n",
    "    \n",
    "    # total the sales \n",
    "    for sale in sales:\n",
    "        total_sales += sale\n",
    "\n",
    "    print(f'Total sales for the week: {total_sales}')\n",
    "    \n",
    "    return None\n",
    "\n",
    "store_sales()"
   ]
  },
  {
   "cell_type": "markdown",
   "metadata": {},
   "source": [
    "\n",
    "## Q3\n",
    "\n",
    "Create a list with at least 5 places you’d like to travel to. Make sure the list isn’t in\n",
    "alphabetical order\n",
    "\n",
    "- Print your list in its original order.\n",
    "- Use the sort() function to arrange your list in order and reprint your list.\n",
    "-  Use the sort(reverse=True) and reprint your list.\n"
   ]
  },
  {
   "cell_type": "code",
   "execution_count": 14,
   "metadata": {},
   "outputs": [
    {
     "name": "stdout",
     "output_type": "stream",
     "text": [
      "['Italy', 'Finland', 'Iceland', 'Carribbean', 'Alaska']\n",
      "['Alaska', 'Carribbean', 'Finland', 'Iceland', 'Italy']\n",
      "['Italy', 'Iceland', 'Finland', 'Carribbean', 'Alaska']\n"
     ]
    }
   ],
   "source": [
    "def places():\n",
    "\n",
    "    # Create list of places\n",
    "    places = [\n",
    "        'Italy',\n",
    "        'Finland',\n",
    "        'Iceland',\n",
    "        'Carribbean',\n",
    "        'Alaska'\n",
    "    ]\n",
    "\n",
    "    print(places)\n",
    "\n",
    "    # Sort in alphabetical order\n",
    "    places.sort() # Sorts in place\n",
    "    print(places)\n",
    "\n",
    "    # Sort in reverse alphabetical order\n",
    "    places.sort(reverse=True)\n",
    "    print(places)\n",
    "\n",
    "    return None\n",
    "\n",
    "places()"
   ]
  },
  {
   "cell_type": "markdown",
   "metadata": {},
   "source": [
    "\n",
    "## Q4\n",
    "Write a program that creates a dictionary containing course numbers and the room\n",
    "numbers of the rooms where the courses meet. The program should also create a\n",
    "dictionary containing course numbers and the names of the instructors that teach each\n",
    "course. After that, the program should let the user enter a course number, then it should\n",
    "display the course’s room number, instructor, and meeting time.\n"
   ]
  },
  {
   "cell_type": "code",
   "execution_count": null,
   "metadata": {},
   "outputs": [
    {
     "name": "stdout",
     "output_type": "stream",
     "text": [
      "DATA101 is in A with Professor John Doe today. Enjoy!\n"
     ]
    }
   ],
   "source": [
    "def course_dict():\n",
    "    \n",
    "    # create lists of each data attribute\n",
    "    courses = ['DATA101', 'DATA102', 'DATA103']\n",
    "    rooms = ['A', 'B', 'C']\n",
    "    profs = ['John Doe', 'Jane Doe', 'O Captain my captain']\n",
    "\n",
    "    # map course numbers to room numbers\n",
    "    course_room = dict(zip(courses, rooms))\n",
    "\n",
    "    # map course numbers to instructors\n",
    "    course_prof = dict(zip(courses, profs))\n",
    "\n",
    "    # get user input\n",
    "    req_course = (input(\"What course are you going to? (DATA101, DATA102, DATA103)\")).upper().replace(' ', '')\n",
    "\n",
    "    # print the course room and professor \n",
    "    print(f'{req_course} is in Room {course_room[req_course]} with Professor {course_prof[req_course]} today. Enjoy!')\n",
    "\n",
    "    return None\n",
    "\n",
    "course_dict()"
   ]
  },
  {
   "cell_type": "markdown",
   "metadata": {},
   "source": [
    "\n",
    "## Q5\n",
    "\n",
    "Write a program that keeps names and email addresses in a dictionary as\n",
    "key-value pairs. The program should then demonstrate the four options:\n",
    "- look up a person’s email address,\n",
    "- add a new name and email address,\n",
    "- change an existing email address, and\n",
    "- delete an existing name and email address.\n"
   ]
  },
  {
   "cell_type": "code",
   "execution_count": null,
   "metadata": {},
   "outputs": [
    {
     "name": "stdout",
     "output_type": "stream",
     "text": [
      "Current entries:\n",
      "Name: Owen Wilson Email: waow@gmail.com\n",
      "\n",
      "Name: Darth Vader Email: hoooperrr@empire.gov\n",
      "\n",
      "Name: Brittany Spears Email: whoops@yahoo.com\n",
      "\n",
      "Name: Darth Vader\n",
      " Email: hoooperrr@empire.gov\n",
      "Updated email for Darth Vader to tatooine@hotmail.com\n",
      "Name: Darth Vader\n",
      " Email: tatooine@hotmail.com\n",
      "Exiting . . .\n"
     ]
    }
   ],
   "source": [
    "import time\n",
    "\n",
    "def main(demo=True):\n",
    "\n",
    "    entries = {'Owen Wilson':'waow@gmail.com', 'Darth Vader':'hoooperrr@empire.gov','Brittany Spears':'whoops@yahoo.com'}\n",
    "\n",
    "    def print_entries()->None:\n",
    "        '''Print all current entries'''\n",
    "        print(\"Current entries:\")\n",
    "        for k, v in entries.items():\n",
    "            print(f\"Name: {k} Email: {v}\\n\")\n",
    "        return None\n",
    "\n",
    "    def lookup(name:str)->None:\n",
    "        '''Prints email address for a given name'''\n",
    "        print(f'Name: {name}\\n Email: {entries[name]}')\n",
    "        return None\n",
    "\n",
    "    def update_entry(name:str, email:str)->None:\n",
    "        '''Adds or updates an existing entry'''\n",
    "        entries[name] = email\n",
    "        print(f\"Updated email for {name} to {email}\")\n",
    "        return None \n",
    "    \n",
    "    def delete_entry(name:str)->None:\n",
    "        '''Deletes a name from the address book'''\n",
    "        entries.pop(name)\n",
    "        print(f'Removed {name} from the address book')\n",
    "        return None\n",
    "    \n",
    "    # start of main program loop\n",
    "\n",
    "    # Show user current entries for reference\n",
    "    print_entries()\n",
    "    \n",
    "    # Turn loop on\n",
    "    run = True\n",
    "\n",
    "    while run:\n",
    "\n",
    "        # Get user request\n",
    "        request = int(input(\"\"\"\n",
    "                            What would you like to do?\\n\n",
    "                            \\tEnter 1 to look up an email address\\n\n",
    "                            \\tEnter 2 to update an entry\\n\n",
    "                            \\tEnter 3 to delete an existing entry\\n\n",
    "                            \\tEnter 0 to quit\\n\n",
    "                            \"\"\"))\n",
    "        # Look up name\n",
    "        if request == 1:\n",
    "            lookup_name = input(\"Please enter the name of the email you'd like to lookup\").title()\n",
    "            lookup(lookup_name)\n",
    "\n",
    "        # Edit email\n",
    "        elif request == 2:\n",
    "            update_name = input(\"Please enter the name of the email you'd like to edit\").title()\n",
    "            lookup(update_name)\n",
    "\n",
    "            update_email = input(f\"Please enter the new email address for {update_name}\").lower()\n",
    "            update_entry(update_name, update_email)\n",
    "\n",
    "        # Delete name\n",
    "        elif request == 3:\n",
    "            delete_name = input(\"Please enter the name of the entry you would like to delete\").title()\n",
    "            delete_entry(delete_name)\n",
    "\n",
    "        # Exit program loop\n",
    "        else:\n",
    "            print(\"Exiting . . .\")\n",
    "            time.sleep(2) # pause before exiting for UX\n",
    "            run = False\n",
    "    \n",
    "    return None\n",
    "\n",
    "main()"
   ]
  }
 ],
 "metadata": {
  "kernelspec": {
   "display_name": ".venv",
   "language": "python",
   "name": "python3"
  },
  "language_info": {
   "codemirror_mode": {
    "name": "ipython",
    "version": 3
   },
   "file_extension": ".py",
   "mimetype": "text/x-python",
   "name": "python",
   "nbconvert_exporter": "python",
   "pygments_lexer": "ipython3",
   "version": "3.13.1"
  }
 },
 "nbformat": 4,
 "nbformat_minor": 2
}
